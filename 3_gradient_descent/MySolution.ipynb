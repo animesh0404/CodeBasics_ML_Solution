{
 "cells": [
  {
   "cell_type": "code",
   "execution_count": 1,
   "metadata": {},
   "outputs": [],
   "source": [
    "import pandas as pd \n",
    "import numpy as np\n",
    "import math"
   ]
  },
  {
   "cell_type": "code",
   "execution_count": 8,
   "metadata": {},
   "outputs": [],
   "source": [
    "def gradient_descent(x,y):\n",
    "\tm_curr = b_curr = 0\n",
    "\titerations = 1000000\n",
    "\tn = len(x)\n",
    "\tlearning_rate = 0.000211\n",
    "\tpcost = 0\n",
    "\n",
    "\tfor i in range(iterations):\n",
    "\t\ty_predicted = m_curr * x + b_curr\n",
    "\t\tcost = (1/n) * sum([val**2 for val in (y - y_predicted)]) \n",
    "\t\t##using mse(mean squared error)\n",
    "\t\tmd = -(2/n)*sum(x * (y - y_predicted))\n",
    "\t\tbd = -(2/n)*sum(y - y_predicted)\n",
    "\t\tm_curr = m_curr - learning_rate * md\n",
    "\t\tb_curr = b_curr - learning_rate * bd\n",
    "\t\tif(math.isclose(cost,pcost,rel_tol=1e-20)):\n",
    "\t\t\treturn(m_curr,b_curr,cost,i)\n",
    "\t\tpcost = cost"
   ]
  },
  {
   "cell_type": "code",
   "execution_count": 9,
   "metadata": {},
   "outputs": [],
   "source": [
    "df = pd.read_csv(\"test_scores.csv\")"
   ]
  },
  {
   "cell_type": "code",
   "execution_count": 13,
   "metadata": {},
   "outputs": [],
   "source": [
    "y = np.array(df.cs)\n",
    "X = np.array(df.math)"
   ]
  },
  {
   "cell_type": "code",
   "execution_count": 15,
   "metadata": {},
   "outputs": [],
   "source": [
    "m, b , cost , i = gradient_descent(X,y)"
   ]
  },
  {
   "cell_type": "code",
   "execution_count": 17,
   "metadata": {},
   "outputs": [
    {
     "name": "stdout",
     "output_type": "stream",
     "text": [
      "m=1.0177381626673776 b=1.9150829048372138 cost=31.604511334597813 iteration=393957\n"
     ]
    }
   ],
   "source": [
    "print(\"m={} b={} cost={} iteration={}\".format(m,b,cost,i))"
   ]
  }
 ],
 "metadata": {
  "kernelspec": {
   "display_name": "Python 3",
   "language": "python",
   "name": "python3"
  },
  "language_info": {
   "codemirror_mode": {
    "name": "ipython",
    "version": 3
   },
   "file_extension": ".py",
   "mimetype": "text/x-python",
   "name": "python",
   "nbconvert_exporter": "python",
   "pygments_lexer": "ipython3",
   "version": "3.6.2"
  }
 },
 "nbformat": 4,
 "nbformat_minor": 2
}
